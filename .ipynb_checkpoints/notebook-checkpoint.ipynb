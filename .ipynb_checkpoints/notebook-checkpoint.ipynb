{
 "cells": [
  {
   "cell_type": "markdown",
   "id": "fe0ea788-58dd-459e-8976-fafdb5c05c6d",
   "metadata": {},
   "source": [
    "![New York City schoolbus](schoolbus.jpg)\n",
    "\n",
    "Photo by [Jannis Lucas](https://unsplash.com/@jannis_lucas) on [Unsplash](https://unsplash.com).\n",
    "<br>\n",
    "\n",
    "# NYC School Data Analysis\n",
    "\n",
    "## Background\n",
    "Every year, American high school students take SATs, which are standardized tests intended to measure literacy, numeracy, and writing skills. There are three sections - reading, math, and writing, each with a maximum score of 800 points. These tests are extremely important for students and colleges, as they play a pivotal role in the admissions process.\n",
    "\n",
    "Analyzing the performance of schools is important for a variety of stakeholders, including policy and education professionals, researchers, government, and even parents considering which school their children should attend.\n",
    "\n",
    "## Objective\n",
    "The objective of this project is to analyze data about the SAT performance of public schools in New York City (NYC) and find interesting insights.\n",
    "\n",
    "## Data\n",
    "The data used is a CSV file that contains information about the school name, borough, average math, reading, and writing SAT scores, and the number of students who took the SAT. The data is taken from this source.\n",
    "\n",
    "## Method\n",
    "The method used is as follows:\n",
    "- Reading data from the CSV file using the Pandas library\n",
    "- Calculating the total SAT score by adding up the scores in math, reading, and writing\n",
    "- Filtering out schools with average math scores above 649\n",
    "- Sorting schools by the highest total SAT score\n",
    "- Calculating the average and standard deviation of the total SAT score for each borough\n",
    "- Displaying the borough with the highest standard deviation of the total SAT score\n",
    "\n",
    "## Results\n",
    "The results of the data analysis are as follows:\n",
    "\n",
    "- There are 10 schools with average math scores above 649, with the highest score being 754 from Stuyvesant High School\n",
    "- The highest total SAT score is 2144 from Stuyvesant High School, and the lowest total SAT score is 887 from Bronx International High School\n",
    "- Manhattan is the borough with the highest standard deviation of the total SAT score, which is 336.29. This indicates that there is a large variation between the total SAT scores of schools in Manhattan. The average total SAT score in Manhattan is 1346.13, which is higher than the NYC average, which is 1223.44"
   ]
  },
  {
   "cell_type": "code",
   "execution_count": 26,
   "id": "d0eb4f16-5a99-460d-a5ba-706b7ef0bbe7",
   "metadata": {
    "chartConfig": {
     "bar": {
      "hasRoundedCorners": true,
      "stacked": false
     },
     "type": "bar",
     "version": "v1"
    },
    "executionCancelledAt": null,
    "executionTime": 27,
    "id": "bA5ajAmk7XH6",
    "lastExecutedAt": 1706857787787,
    "lastScheduledRunId": null,
    "lastSuccessfullyExecutedCode": "import pandas as pd\nimport matplotlib.pyplot as plt\nimport seaborn as sns\n\n# Read in the data\nschools = pd.read_csv(\"schools.csv\")\n\n# Preview the data\nschools.head()\n\n# Start coding here...\nschools_math_8 = schools[schools[\"average_math\"] >= 640]\nbest_math_schools = schools_math_8[[\"school_name\", \"average_math\"]].sort_values(\"average_math\", ascending=False)\n\n# Make a new Column total_SAT\nschools[\"total_SAT\"] = schools[\"average_math\"] + schools[\"average_reading\"] + schools[\"average_writing\"]\n\n# make a new DataFrame to store Top 10 School With Highest SAT Score\ntop_10_schools = schools[[\"school_name\", \"total_SAT\"]].sort_values(\"total_SAT\", ascending=False).head(10)\n\nschools_SAT_data = schools.groupby(\"borough\")[\"total_SAT\"].agg([\"count\", \"mean\", \"std\"])\nlargest_std_dev = schools_SAT_data.sort_values(\"std\", ascending=False).head(3).round(2)\nlargest_std_dev = largest_std_dev.rename(columns={\"count\": \"num_schools\", \"mean\": \"average_SAT\", \"std\": \"std_SAT\"})\n\nprint(largest_std_dev)",
    "outputsMetadata": {
     "0": {
      "height": 117,
      "type": "stream"
     },
     "1": {
      "height": 117,
      "type": "stream"
     }
    },
    "visualizeDataframe": false
   },
   "outputs": [
    {
     "name": "stdout",
     "output_type": "stream",
     "text": [
      "               num_schools  average_SAT  std_SAT\n",
      "borough                                         \n",
      "Manhattan               89      1340.13   230.29\n",
      "Staten Island           10      1439.00   222.30\n",
      "Queens                  69      1345.48   195.25\n"
     ]
    }
   ],
   "source": [
    "import pandas as pd\n",
    "import matplotlib.pyplot as plt\n",
    "import seaborn as sns\n",
    "\n",
    "# Read in the data\n",
    "schools = pd.read_csv(\"schools.csv\")\n",
    "\n",
    "# Preview the data\n",
    "schools.head()\n",
    "\n",
    "# Start coding here...\n",
    "schools_math_8 = schools[schools[\"average_math\"] >= 640]\n",
    "best_math_schools = schools_math_8[[\"school_name\", \"average_math\"]].sort_values(\"average_math\", ascending=False)\n",
    "\n",
    "# Make a new Column total_SAT\n",
    "schools[\"total_SAT\"] = schools[\"average_math\"] + schools[\"average_reading\"] + schools[\"average_writing\"]\n",
    "\n",
    "# make a new DataFrame to store Top 10 School With Highest SAT Score\n",
    "top_10_schools = schools[[\"school_name\", \"total_SAT\"]].sort_values(\"total_SAT\", ascending=False).head(10)\n",
    "\n",
    "schools_SAT_data = schools.groupby(\"borough\")[\"total_SAT\"].agg([\"count\", \"mean\", \"std\"])\n",
    "largest_std_dev = schools_SAT_data.sort_values(\"std\", ascending=False).head(3).round(2)\n",
    "largest_std_dev = largest_std_dev.rename(columns={\"count\": \"num_schools\", \"mean\": \"average_SAT\", \"std\": \"std_SAT\"})\n",
    "\n",
    "print(largest_std_dev)"
   ]
  },
  {
   "cell_type": "markdown",
   "id": "fc0aaf4e-03a9-4114-8ebc-4a6f7ff9101f",
   "metadata": {
    "tags": []
   },
   "source": [
    "## Summary\n",
    "The output code shows that Staten Island has the highest average SAT score and the lowest number of schools, while Manhattan has the largest variation of SAT scores among the three boroughs in New York."
   ]
  }
 ],
 "metadata": {
  "colab": {
   "name": "Welcome to DataCamp Workspaces.ipynb",
   "provenance": []
  },
  "kernelspec": {
   "display_name": "Python 3 (ipykernel)",
   "language": "python",
   "name": "python3"
  },
  "language_info": {
   "codemirror_mode": {
    "name": "ipython",
    "version": 3
   },
   "file_extension": ".py",
   "mimetype": "text/x-python",
   "name": "python",
   "nbconvert_exporter": "python",
   "pygments_lexer": "ipython3",
   "version": "3.11.5"
  }
 },
 "nbformat": 4,
 "nbformat_minor": 5
}
